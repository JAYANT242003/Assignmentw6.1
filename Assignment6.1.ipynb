{
 "cells": [
  {
   "cell_type": "code",
   "execution_count": null,
   "id": "dbcbd2c2-57f4-4fe6-b528-bd71510cab29",
   "metadata": {},
   "outputs": [],
   "source": [
    "Q1."
   ]
  },
  {
   "cell_type": "code",
   "execution_count": null,
   "id": "954781cf-48c7-4d39-a77f-3f1d8b6a6be7",
   "metadata": {},
   "outputs": [],
   "source": [
    "In Python, an exception is an event that occurs during the execution of a program, leading to the disruption of the normal flow of the program's instructions."
   ]
  },
  {
   "cell_type": "code",
   "execution_count": null,
   "id": "610cccfb-288f-4e85-892a-af238e74356b",
   "metadata": {},
   "outputs": [],
   "source": [
    "Exception: Caused by errors in the logic or runtime behavior of the program, such as attempting to perform an operation that is not allowed.\n",
    "Syntax Error: Caused by violations of the language's syntax rules, such as misspelled keywords, missing colons, or incorrect indentation."
   ]
  },
  {
   "cell_type": "code",
   "execution_count": null,
   "id": "eeb086a2-cc44-4b88-81f7-c9bf4e887cac",
   "metadata": {},
   "outputs": [],
   "source": []
  },
  {
   "cell_type": "code",
   "execution_count": null,
   "id": "4a80f674-c30b-4232-9a9c-2acae0272e20",
   "metadata": {},
   "outputs": [],
   "source": []
  },
  {
   "cell_type": "code",
   "execution_count": null,
   "id": "d7bb18c5-ab76-44e2-bf25-53953278c817",
   "metadata": {},
   "outputs": [],
   "source": [
    "Q2."
   ]
  },
  {
   "cell_type": "code",
   "execution_count": null,
   "id": "67103983-4666-45f7-b733-55ed1705a46a",
   "metadata": {},
   "outputs": [],
   "source": [
    "If an exception is not handled in python, then the program will terminate, and an error message along with atraceback, is displayed."
   ]
  },
  {
   "cell_type": "code",
   "execution_count": 1,
   "id": "76f1de50-53c8-4ed9-9390-87f296cef5b9",
   "metadata": {},
   "outputs": [
    {
     "ename": "ZeroDivisionError",
     "evalue": "division by zero",
     "output_type": "error",
     "traceback": [
      "\u001b[0;31m---------------------------------------------------------------------------\u001b[0m",
      "\u001b[0;31mZeroDivisionError\u001b[0m                         Traceback (most recent call last)",
      "Cell \u001b[0;32mIn[1], line 1\u001b[0m\n\u001b[0;32m----> 1\u001b[0m a \u001b[38;5;241m=\u001b[39m \u001b[38;5;241;43m10\u001b[39;49m\u001b[38;5;241;43m/\u001b[39;49m\u001b[38;5;241;43m0\u001b[39;49m\n\u001b[1;32m      2\u001b[0m \u001b[38;5;28mprint\u001b[39m(a)\n",
      "\u001b[0;31mZeroDivisionError\u001b[0m: division by zero"
     ]
    }
   ],
   "source": [
    "a = 10/0\n",
    "print(a)"
   ]
  },
  {
   "cell_type": "code",
   "execution_count": null,
   "id": "5b8e3fda-3948-4046-b180-cffa83c49a1a",
   "metadata": {},
   "outputs": [],
   "source": []
  },
  {
   "cell_type": "code",
   "execution_count": null,
   "id": "2818e159-fa84-4d4f-977d-162a2d66ae9f",
   "metadata": {},
   "outputs": [],
   "source": []
  },
  {
   "cell_type": "code",
   "execution_count": null,
   "id": "e385dfa6-dbec-498f-b6ac-3338908f6948",
   "metadata": {},
   "outputs": [],
   "source": [
    "Q3."
   ]
  },
  {
   "cell_type": "code",
   "execution_count": null,
   "id": "9b79e201-9c22-424c-8661-0cf473168283",
   "metadata": {},
   "outputs": [],
   "source": [
    "In Python, the try, except, else, and finally statements are used to catch and handle exceptions."
   ]
  },
  {
   "cell_type": "code",
   "execution_count": 3,
   "id": "4b04d97e-60b5-468a-9337-b3bdc1d09071",
   "metadata": {},
   "outputs": [
    {
     "name": "stdout",
     "output_type": "stream",
     "text": [
      "division by zero\n"
     ]
    }
   ],
   "source": [
    "try:\n",
    "    a = 10/0\n",
    "except ZeroDivisionError as e :\n",
    "    print(e)"
   ]
  },
  {
   "cell_type": "code",
   "execution_count": 20,
   "id": "6ac786d0-8dce-4fec-8604-82cf74a176dd",
   "metadata": {},
   "outputs": [
    {
     "name": "stdout",
     "output_type": "stream",
     "text": [
      "this is an error [Errno 2] No such file or directory: 'jayant.txt'\n"
     ]
    }
   ],
   "source": [
    "try:\n",
    "    f = open(\"jayant.txt\",'r')\n",
    "except Exception as e :\n",
    "    print(\"this is an error\",e)"
   ]
  },
  {
   "cell_type": "code",
   "execution_count": 21,
   "id": "a6283806-47a2-4ee4-8252-5592a69d7c69",
   "metadata": {},
   "outputs": [
    {
     "name": "stdout",
     "output_type": "stream",
     "text": [
      "it is an else block\n"
     ]
    }
   ],
   "source": [
    "try:\n",
    "    f = open(\"jayant.txt\",'w')\n",
    "except Exception as e :\n",
    "    print(\"this is an error\",e)\n",
    "else:\n",
    "    print(\"it is an else block\")"
   ]
  },
  {
   "cell_type": "code",
   "execution_count": 22,
   "id": "4b232fad-e02a-4d5d-869e-1a755277482b",
   "metadata": {},
   "outputs": [
    {
     "name": "stdout",
     "output_type": "stream",
     "text": [
      "final execute\n"
     ]
    }
   ],
   "source": [
    "try:\n",
    "    f = open(\"jayant.txt\",'w')\n",
    "finally: \n",
    "    print(\"final execute\")\n"
   ]
  },
  {
   "cell_type": "code",
   "execution_count": null,
   "id": "0d13c760-d26d-4b86-b15c-26f329f43695",
   "metadata": {},
   "outputs": [],
   "source": []
  },
  {
   "cell_type": "code",
   "execution_count": null,
   "id": "1a11c379-7ca9-44b5-b031-b16cbe2d2585",
   "metadata": {},
   "outputs": [],
   "source": []
  },
  {
   "cell_type": "code",
   "execution_count": null,
   "id": "66da84e0-8cf7-41ea-ac04-6efd5edc7074",
   "metadata": {},
   "outputs": [],
   "source": [
    "Q4."
   ]
  },
  {
   "cell_type": "code",
   "execution_count": null,
   "id": "07498a70-2116-47ee-bcfc-204c825897f2",
   "metadata": {},
   "outputs": [],
   "source": [
    "try and else : try block is used because code might raise an exception and else block is use to run a if no excepyion occur in try block"
   ]
  },
  {
   "cell_type": "code",
   "execution_count": 24,
   "id": "9f8af384-8431-49ee-aa6f-92a01288da75",
   "metadata": {},
   "outputs": [
    {
     "name": "stdout",
     "output_type": "stream",
     "text": [
      "this ia an else block\n"
     ]
    }
   ],
   "source": [
    "try :\n",
    "    f = open(\"file.txt\", 'w')\n",
    "    f.write(\"An errror will occur\")\n",
    "except Exception as e:\n",
    "    print(\"An error is occur within your code\", e)\n",
    "else :\n",
    "    print(\"this ia an else block\")"
   ]
  },
  {
   "cell_type": "code",
   "execution_count": null,
   "id": "133069eb-5be0-4e17-a441-021259fe5503",
   "metadata": {},
   "outputs": [],
   "source": [
    "finally: finally block always execute regardless of whether an exception occured or not"
   ]
  },
  {
   "cell_type": "code",
   "execution_count": 25,
   "id": "982a700b-3e79-4d93-b01d-a29ac8d29845",
   "metadata": {},
   "outputs": [
    {
     "name": "stdout",
     "output_type": "stream",
     "text": [
      "This block will always excute\n"
     ]
    }
   ],
   "source": [
    "try :\n",
    "    f = open(\"file.txt\",'w')\n",
    "    f.write(\"An errror will occur\")\n",
    "finally: \n",
    "    print(\"This block will always excute\")"
   ]
  },
  {
   "cell_type": "code",
   "execution_count": null,
   "id": "5d251e6b-9655-450b-8ad9-6ff956d7330f",
   "metadata": {},
   "outputs": [],
   "source": [
    "In Python, the raise statement is used to explicitly raise an exception or error during the execution of a program."
   ]
  },
  {
   "cell_type": "code",
   "execution_count": 27,
   "id": "8c2beb0b-34e5-43c7-bf1b-d329254470d0",
   "metadata": {},
   "outputs": [
    {
     "name": "stdout",
     "output_type": "stream",
     "text": [
      "This is an error  \n"
     ]
    }
   ],
   "source": [
    "def divide_numbers(a, b):\n",
    "    if b == 0:\n",
    "        raise ZeroDivisionError\n",
    "    return a / b\n",
    "\n",
    "try:\n",
    "    result = divide_numbers(10, 0)\n",
    "except ZeroDivisionError as e:\n",
    "    print(\"This is an error \", e)\n"
   ]
  },
  {
   "cell_type": "code",
   "execution_count": null,
   "id": "730331d1-3c12-4e64-bf1b-b25940be9ef0",
   "metadata": {},
   "outputs": [],
   "source": []
  },
  {
   "cell_type": "code",
   "execution_count": null,
   "id": "5bbe9419-9865-4075-8346-a1c2ce723c8d",
   "metadata": {},
   "outputs": [],
   "source": []
  },
  {
   "cell_type": "code",
   "execution_count": null,
   "id": "9369fd25-08a1-4ff1-9ed6-ca105093914a",
   "metadata": {},
   "outputs": [],
   "source": [
    "Q5.A custom exception is an exception class that you define yourself to represent a specific error or exceptional condition in your code."
   ]
  },
  {
   "cell_type": "code",
   "execution_count": null,
   "id": "4847a213-d3ea-41da-b278-0c51e4750d74",
   "metadata": {},
   "outputs": [],
   "source": [
    "Custom exception are used for specific scenarios to enhance code readability, maintainability, and error handling"
   ]
  },
  {
   "cell_type": "code",
   "execution_count": 28,
   "id": "dbae7c09-660c-4f34-ac59-2c7552b0e64c",
   "metadata": {},
   "outputs": [
    {
     "name": "stdout",
     "output_type": "stream",
     "text": [
      "division by zero\n"
     ]
    }
   ],
   "source": [
    "try:\n",
    "    a = 10/0\n",
    "except ZeroDivisionError as e :\n",
    "    print(e)"
   ]
  },
  {
   "cell_type": "code",
   "execution_count": 30,
   "id": "cb0a61de-f35e-4c2f-b22f-e497fe7e6d65",
   "metadata": {},
   "outputs": [
    {
     "name": "stdout",
     "output_type": "stream",
     "text": [
      "invalid literal for int() with base 10: 'jayant'\n"
     ]
    }
   ],
   "source": [
    "try :\n",
    "    int(\"jayant\")\n",
    "except ValueError as e :\n",
    "    print(e)"
   ]
  },
  {
   "cell_type": "code",
   "execution_count": null,
   "id": "6a691717-bf36-4a6d-8412-2133985692f9",
   "metadata": {},
   "outputs": [],
   "source": []
  },
  {
   "cell_type": "code",
   "execution_count": null,
   "id": "6739f63a-0e7d-4753-8b13-c714b1b0894d",
   "metadata": {},
   "outputs": [],
   "source": []
  },
  {
   "cell_type": "code",
   "execution_count": null,
   "id": "edf81241-f60d-4cd8-8706-00a61ccdbc94",
   "metadata": {},
   "outputs": [],
   "source": [
    "Q6."
   ]
  },
  {
   "cell_type": "code",
   "execution_count": 43,
   "id": "a0bc3384-8ffd-4b85-85b0-2a299030676c",
   "metadata": {},
   "outputs": [],
   "source": [
    "class correctprice(Exception):\n",
    "    def __init__(self, msg):\n",
    "        self.msg = msg"
   ]
  },
  {
   "cell_type": "code",
   "execution_count": 44,
   "id": "ffbae692-8311-4e85-90b4-22a86cde0e19",
   "metadata": {},
   "outputs": [],
   "source": [
    "def correctprice(price):\n",
    "        if price < 0:\n",
    "            raise correctprice(\"The given price is negative\")\n",
    "        elif price > 10000 :\n",
    "            raise correctprice(\"The ented price is too high\")\n",
    "        else :\n",
    "            print(\"price is valid\")"
   ]
  },
  {
   "cell_type": "code",
   "execution_count": 46,
   "id": "e4403791-bfc9-4356-944d-a89ec0c99162",
   "metadata": {},
   "outputs": [
    {
     "name": "stdin",
     "output_type": "stream",
     "text": [
      "Enter an price -55\n"
     ]
    },
    {
     "ename": "TypeError",
     "evalue": "catching classes that do not inherit from BaseException is not allowed",
     "output_type": "error",
     "traceback": [
      "\u001b[0;31m---------------------------------------------------------------------------\u001b[0m",
      "\u001b[0;31mTypeError\u001b[0m                                 Traceback (most recent call last)",
      "Cell \u001b[0;32mIn[46], line 3\u001b[0m\n\u001b[1;32m      2\u001b[0m     price \u001b[38;5;241m=\u001b[39m \u001b[38;5;28mint\u001b[39m(\u001b[38;5;28minput\u001b[39m(\u001b[38;5;124m\"\u001b[39m\u001b[38;5;124mEnter an price\u001b[39m\u001b[38;5;124m\"\u001b[39m))\n\u001b[0;32m----> 3\u001b[0m     \u001b[43mcorrectprice\u001b[49m\u001b[43m(\u001b[49m\u001b[43mprice\u001b[49m\u001b[43m)\u001b[49m\n\u001b[1;32m      4\u001b[0m \u001b[38;5;28;01mexcept\u001b[39;00m correctprice \u001b[38;5;28;01mas\u001b[39;00m f :\n",
      "Cell \u001b[0;32mIn[44], line 3\u001b[0m, in \u001b[0;36mcorrectprice\u001b[0;34m(price)\u001b[0m\n\u001b[1;32m      2\u001b[0m \u001b[38;5;28;01mif\u001b[39;00m price \u001b[38;5;241m<\u001b[39m \u001b[38;5;241m0\u001b[39m:\n\u001b[0;32m----> 3\u001b[0m     \u001b[38;5;28;01mraise\u001b[39;00m \u001b[43mcorrectprice\u001b[49m\u001b[43m(\u001b[49m\u001b[38;5;124;43m\"\u001b[39;49m\u001b[38;5;124;43mThe given price is negative\u001b[39;49m\u001b[38;5;124;43m\"\u001b[39;49m\u001b[43m)\u001b[49m\n\u001b[1;32m      4\u001b[0m \u001b[38;5;28;01melif\u001b[39;00m price \u001b[38;5;241m>\u001b[39m \u001b[38;5;241m10000\u001b[39m :\n",
      "Cell \u001b[0;32mIn[44], line 2\u001b[0m, in \u001b[0;36mcorrectprice\u001b[0;34m(price)\u001b[0m\n\u001b[1;32m      1\u001b[0m \u001b[38;5;28;01mdef\u001b[39;00m \u001b[38;5;21mcorrectprice\u001b[39m(price):\n\u001b[0;32m----> 2\u001b[0m         \u001b[38;5;28;01mif\u001b[39;00m \u001b[43mprice\u001b[49m\u001b[43m \u001b[49m\u001b[38;5;241;43m<\u001b[39;49m\u001b[43m \u001b[49m\u001b[38;5;241;43m0\u001b[39;49m:\n\u001b[1;32m      3\u001b[0m             \u001b[38;5;28;01mraise\u001b[39;00m correctprice(\u001b[38;5;124m\"\u001b[39m\u001b[38;5;124mThe given price is negative\u001b[39m\u001b[38;5;124m\"\u001b[39m)\n",
      "\u001b[0;31mTypeError\u001b[0m: '<' not supported between instances of 'str' and 'int'",
      "\nDuring handling of the above exception, another exception occurred:\n",
      "\u001b[0;31mTypeError\u001b[0m                                 Traceback (most recent call last)",
      "Cell \u001b[0;32mIn[46], line 4\u001b[0m\n\u001b[1;32m      2\u001b[0m     price \u001b[38;5;241m=\u001b[39m \u001b[38;5;28mint\u001b[39m(\u001b[38;5;28minput\u001b[39m(\u001b[38;5;124m\"\u001b[39m\u001b[38;5;124mEnter an price\u001b[39m\u001b[38;5;124m\"\u001b[39m))\n\u001b[1;32m      3\u001b[0m     correctprice(price)\n\u001b[0;32m----> 4\u001b[0m \u001b[38;5;28;01mexcept\u001b[39;00m correctprice \u001b[38;5;28;01mas\u001b[39;00m f :\n\u001b[1;32m      5\u001b[0m     \u001b[38;5;28mprint\u001b[39m(f)\n",
      "\u001b[0;31mTypeError\u001b[0m: catching classes that do not inherit from BaseException is not allowed"
     ]
    }
   ],
   "source": [
    "try :\n",
    "    price = int(input(\"Enter an price\"))\n",
    "    correctprice(price)\n",
    "except correctprice as f :\n",
    "    print(f)"
   ]
  },
  {
   "cell_type": "code",
   "execution_count": null,
   "id": "aa561d0d-1703-471a-8b4f-a02e53b397b7",
   "metadata": {},
   "outputs": [],
   "source": []
  },
  {
   "cell_type": "code",
   "execution_count": null,
   "id": "c053b977-672c-4b47-8888-9ccaee892ae9",
   "metadata": {},
   "outputs": [],
   "source": []
  },
  {
   "cell_type": "code",
   "execution_count": null,
   "id": "a97e1b18-dbc0-423f-aa26-ee2df5a061b8",
   "metadata": {},
   "outputs": [],
   "source": []
  }
 ],
 "metadata": {
  "kernelspec": {
   "display_name": "Python 3 (ipykernel)",
   "language": "python",
   "name": "python3"
  },
  "language_info": {
   "codemirror_mode": {
    "name": "ipython",
    "version": 3
   },
   "file_extension": ".py",
   "mimetype": "text/x-python",
   "name": "python",
   "nbconvert_exporter": "python",
   "pygments_lexer": "ipython3",
   "version": "3.10.8"
  }
 },
 "nbformat": 4,
 "nbformat_minor": 5
}
